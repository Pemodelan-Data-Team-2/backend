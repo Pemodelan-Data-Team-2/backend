{
 "cells": [
  {
   "cell_type": "code",
   "execution_count": 1,
   "id": "aaad89b4",
   "metadata": {},
   "outputs": [],
   "source": [
    "import pandas as pd\n",
    "import numpy as np"
   ]
  },
  {
   "cell_type": "code",
   "execution_count": 2,
   "id": "734b7d8c",
   "metadata": {},
   "outputs": [],
   "source": [
    "data = pd.read_excel('Contoh data.xlsx')"
   ]
  },
  {
   "cell_type": "code",
   "execution_count": 3,
   "id": "fbb20f44",
   "metadata": {},
   "outputs": [],
   "source": [
    "def patient_admission_by_state_per_year(df):\n",
    "    df['admitted_date'] = pd.to_datetime(df['admitted_date'])\n",
    "    df['year'] = df['admitted_date'].dt.year\n",
    "    agg = df.groupby(['year','state'])[['admission_id']].count()\n",
    "    agg = agg.rename(columns={'admission_id':'total_admitted_patients'})\n",
    "    return agg"
   ]
  },
  {
   "cell_type": "code",
   "execution_count": 20,
   "id": "33e73480",
   "metadata": {},
   "outputs": [],
   "source": [
    "def patient_admissions_revenues_per_annum(df):\n",
    "    \"\"\"\n",
    "    Function to generate annual report\n",
    "    Args:\n",
    "    - df: pandas.DataFrame -> queried data (prefix: patient_admissions_by_....).\n",
    "        E.g., patient_admissions_by_country, patient_admissions_by_state, etc.\n",
    "    \"\"\"\n",
    "    df['admitted_date'] = pd.to_datetime(df['admitted_date'])\n",
    "    df['year'] = df['admitted_date'].dt.year\n",
    "    agg = df.groupby('year',as_index=False)[['room_rate_total']].sum()\n",
    "    agg = agg.rename(columns={'room_rate_total':'total_revenues'})\n",
    "    return agg"
   ]
  },
  {
   "cell_type": "code",
   "execution_count": 24,
   "id": "4ef3050c",
   "metadata": {},
   "outputs": [],
   "source": [
    "ptarpa = patient_admissions_revenues_per_annum(data)"
   ]
  },
  {
   "cell_type": "code",
   "execution_count": 29,
   "id": "bd454f0d",
   "metadata": {},
   "outputs": [
    {
     "data": {
      "text/html": [
       "<div>\n",
       "<style scoped>\n",
       "    .dataframe tbody tr th:only-of-type {\n",
       "        vertical-align: middle;\n",
       "    }\n",
       "\n",
       "    .dataframe tbody tr th {\n",
       "        vertical-align: top;\n",
       "    }\n",
       "\n",
       "    .dataframe thead th {\n",
       "        text-align: right;\n",
       "    }\n",
       "</style>\n",
       "<table border=\"1\" class=\"dataframe\">\n",
       "  <thead>\n",
       "    <tr style=\"text-align: right;\">\n",
       "      <th></th>\n",
       "      <th>year</th>\n",
       "      <th>total_revenues</th>\n",
       "    </tr>\n",
       "  </thead>\n",
       "  <tbody>\n",
       "    <tr>\n",
       "      <th>0</th>\n",
       "      <td>2001</td>\n",
       "      <td>1900</td>\n",
       "    </tr>\n",
       "    <tr>\n",
       "      <th>1</th>\n",
       "      <td>2003</td>\n",
       "      <td>1000</td>\n",
       "    </tr>\n",
       "    <tr>\n",
       "      <th>2</th>\n",
       "      <td>2006</td>\n",
       "      <td>2400</td>\n",
       "    </tr>\n",
       "    <tr>\n",
       "      <th>3</th>\n",
       "      <td>2007</td>\n",
       "      <td>600</td>\n",
       "    </tr>\n",
       "  </tbody>\n",
       "</table>\n",
       "</div>"
      ],
      "text/plain": [
       "   year  total_revenues\n",
       "0  2001            1900\n",
       "1  2003            1000\n",
       "2  2006            2400\n",
       "3  2007             600"
      ]
     },
     "execution_count": 29,
     "metadata": {},
     "output_type": "execute_result"
    }
   ],
   "source": [
    "ptarpa"
   ]
  },
  {
   "cell_type": "code",
   "execution_count": 30,
   "id": "9b56c306",
   "metadata": {},
   "outputs": [],
   "source": [
    "def format_json_linechart(df):\n",
    "    \"\"\"\n",
    "    fungsi ini digunakan untuk mengconvert format dataframe menjadi format\n",
    "    inputan javascript untuk plot linechart\n",
    "    \"\"\"\n",
    "    output = {\"id\" : \"USA\"}\n",
    "    data = []\n",
    "    column = list(df.columns)\n",
    "    for i in range(len(df)):\n",
    "        data.append({\"x\":str(df[column[0]][i]),\n",
    "                      \"y\":df[column[1]][i]})\n",
    "    output[\"data\"] = data\n",
    "    return output"
   ]
  },
  {
   "cell_type": "code",
   "execution_count": 31,
   "id": "9e309112",
   "metadata": {},
   "outputs": [
    {
     "data": {
      "text/plain": [
       "{'id': 'USA',\n",
       " 'data': [{'x': '2001', 'y': 1900},\n",
       "  {'x': '2003', 'y': 1000},\n",
       "  {'x': '2006', 'y': 2400},\n",
       "  {'x': '2007', 'y': 600}]}"
      ]
     },
     "execution_count": 31,
     "metadata": {},
     "output_type": "execute_result"
    }
   ],
   "source": [
    "format_json_linechart(ptarpa)"
   ]
  },
  {
   "cell_type": "code",
   "execution_count": 9,
   "id": "45983fba",
   "metadata": {},
   "outputs": [],
   "source": [
    "def revenues_by_state_per_annum(df):\n",
    "    \"\"\"\n",
    "    function to generate report revenue per year by state\n",
    "    \"\"\"\n",
    "    df['admitted_date'] = pd.to_datetime(df['admitted_date'])\n",
    "    df['year'] = df['admitted_date'].dt.year\n",
    "    agg = df.groupby(['year','state'])[['room_rate_total']].sum()\n",
    "    agg = agg.rename(columns={'room_rate_total':'total_revenues'})\n",
    "    return agg"
   ]
  },
  {
   "cell_type": "code",
   "execution_count": 10,
   "id": "30bbb7a9",
   "metadata": {},
   "outputs": [],
   "source": [
    "rbtpa = revenues_by_state_per_annum(data)\n",
    "rbtpa = rbtpa.reset_index()"
   ]
  },
  {
   "cell_type": "code",
   "execution_count": null,
   "id": "fa5b6ba6",
   "metadata": {},
   "outputs": [],
   "source": [
    "rbtpa.to_json(\"rbtpa1.json\")"
   ]
  },
  {
   "cell_type": "code",
   "execution_count": null,
   "id": "780089a6",
   "metadata": {},
   "outputs": [],
   "source": [
    "output = []\n",
    "for i in range(len(rbtpa)):\n",
    "    x = {'year':rbtpa['year'][i],\n",
    "        'state':rbtpa['state'][i],\n",
    "        'total_revenues':rbtpa['total_revenues'][i]}\n",
    "    output.append(x)"
   ]
  },
  {
   "cell_type": "code",
   "execution_count": null,
   "id": "32a1ad1f",
   "metadata": {},
   "outputs": [],
   "source": [
    "import json"
   ]
  },
  {
   "cell_type": "code",
   "execution_count": null,
   "id": "c564cf1d",
   "metadata": {},
   "outputs": [],
   "source": [
    "rbtpa.iloc[0].to_dict()"
   ]
  },
  {
   "cell_type": "code",
   "execution_count": 22,
   "id": "c3a8729d",
   "metadata": {},
   "outputs": [],
   "source": [
    "#untuk tampilan tabel\n",
    "def format_json_table(df):\n",
    "    \"\"\"\n",
    "    format_json fangsi digunakna untuk mengubah format dataframe ke bentuk inputan\n",
    "    javascript.\n",
    "    \"\"\"\n",
    "    output = []\n",
    "    columns = list(df.columns)\n",
    "    for i in range(len(df)):\n",
    "        output.append(df.iloc[i].to_dict())\n",
    "    return output"
   ]
  },
  {
   "cell_type": "code",
   "execution_count": null,
   "id": "8c4e898a",
   "metadata": {},
   "outputs": [],
   "source": [
    "#untuk tampilan tabel\n",
    "def format_json(df):\n",
    "    output = []\n",
    "    columns = list(df.columns)\n",
    "    for i in range(len(df)):\n",
    "        x = {}\n",
    "        for col in columns:\n",
    "            x[col] = df[col][i]\n",
    "        output.append(x)\n",
    "#     json.dumps(output)\n",
    "    return output"
   ]
  },
  {
   "cell_type": "code",
   "execution_count": 12,
   "id": "d52b6470",
   "metadata": {},
   "outputs": [
    {
     "data": {
      "text/plain": [
       "[{'year': 2001, 'state': 'A', 'total_revenues': 900},\n",
       " {'year': 2001, 'state': 'B', 'total_revenues': 500},\n",
       " {'year': 2001, 'state': 'C', 'total_revenues': 200},\n",
       " {'year': 2001, 'state': 'D', 'total_revenues': 300},\n",
       " {'year': 2003, 'state': 'A', 'total_revenues': 300},\n",
       " {'year': 2003, 'state': 'B', 'total_revenues': 200},\n",
       " {'year': 2003, 'state': 'C', 'total_revenues': 400},\n",
       " {'year': 2003, 'state': 'D', 'total_revenues': 100},\n",
       " {'year': 2006, 'state': 'A', 'total_revenues': 400},\n",
       " {'year': 2006, 'state': 'B', 'total_revenues': 500},\n",
       " {'year': 2006, 'state': 'C', 'total_revenues': 500},\n",
       " {'year': 2006, 'state': 'D', 'total_revenues': 1000},\n",
       " {'year': 2007, 'state': 'B', 'total_revenues': 200},\n",
       " {'year': 2007, 'state': 'C', 'total_revenues': 100},\n",
       " {'year': 2007, 'state': 'D', 'total_revenues': 300}]"
      ]
     },
     "execution_count": 12,
     "metadata": {},
     "output_type": "execute_result"
    }
   ],
   "source": [
    "format_json(rbtpa)"
   ]
  },
  {
   "cell_type": "code",
   "execution_count": null,
   "id": "3748ca28",
   "metadata": {},
   "outputs": [],
   "source": []
  }
 ],
 "metadata": {
  "kernelspec": {
   "display_name": "Python 3",
   "language": "python",
   "name": "python3"
  },
  "language_info": {
   "codemirror_mode": {
    "name": "ipython",
    "version": 3
   },
   "file_extension": ".py",
   "mimetype": "text/x-python",
   "name": "python",
   "nbconvert_exporter": "python",
   "pygments_lexer": "ipython3",
   "version": "3.8.8"
  }
 },
 "nbformat": 4,
 "nbformat_minor": 5
}
