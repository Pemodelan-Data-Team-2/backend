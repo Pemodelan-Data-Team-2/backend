{
 "cells": [
  {
   "cell_type": "code",
   "execution_count": 145,
   "id": "e9d9cccd",
   "metadata": {},
   "outputs": [],
   "source": [
    "import numpy as np\n",
    "import pandas as pd"
   ]
  },
  {
   "cell_type": "code",
   "execution_count": 146,
   "id": "72532f6f",
   "metadata": {},
   "outputs": [
    {
     "name": "stdout",
     "output_type": "stream",
     "text": [
      "Accessing DC: usa\n",
      "Accessing DC: idn\n"
     ]
    }
   ],
   "source": [
    "import sys\n",
    "sys.path.append('../')\n",
    "\n",
    "from services.reports import CountryReports\n",
    "\n",
    "usa_instance = CountryReports(country='usa')\n",
    "idn_instance = CountryReports(country='idn')"
   ]
  },
  {
   "cell_type": "markdown",
   "id": "41d0b17b",
   "metadata": {},
   "source": [
    "### 1. Annual Total Admitted Patients by Room Type"
   ]
  },
  {
   "cell_type": "code",
   "execution_count": 147,
   "id": "65820007",
   "metadata": {},
   "outputs": [],
   "source": [
    "def annual_admitted_patients_by_room_type():\n",
    "    usa_patient_admitted = usa_instance.patient_admissions_by_country()\n",
    "    idn_patient_admitted = idn_instance.patient_admissions_by_country()\n",
    "    \n",
    "    usa_patient_admitted = usa_instance.get_room_type(usa_patient_admitted)\n",
    "    idn_patient_admitted = usa_instance.get_room_type(idn_patient_admitted)\n",
    "\n",
    "    usa_annum_count = usa_instance.patient_admissions_per_annum_by_room_type(df = usa_patient_admitted)\n",
    "    idn_annum_count = idn_instance.patient_admissions_per_annum_by_room_type(df = idn_patient_admitted)\n",
    "\n",
    "    output = []\n",
    "    for year in (usa_annum_count['year'].unique()):\n",
    "        df_peryear_usa =  usa_annum_count[usa_annum_count['year'] == year]\n",
    "        df_peryear_idn = idn_annum_count[idn_annum_count['year'] == year]\n",
    "        peryear = {\"year\": str(year),\n",
    "                    \"Class I\" : 0,\n",
    "                    \"Class IColor\" : 'hsl(128,70%,50%)',\n",
    "                    \"Class II\" : 0,\n",
    "                    \"Class IIColor\" : 'hsl(130,20%,10%)',\n",
    "                    \"Class III\" : 0 ,\n",
    "                    \"Class IIIColor\" : 'hsl(122,40%,80%)',\n",
    "                    \"VIP\" : 0,\n",
    "                    \"VIP Color\" : 'hsl(100,20%,20%)',\n",
    "                    \"VVIP\" : 0,\n",
    "                    \"VVIP Color\" : 'hsl(70,60%,90%)'}\n",
    "\n",
    "        for room in df_peryear_idn['room_type']:\n",
    "            sum_count = int(df_peryear_usa[df_peryear_usa['room_type'] == room]['total_admitted_patients']) + int(df_peryear_idn[df_peryear_idn['room_type'] == room]['total_admitted_patients'])\n",
    "            peryear[room] = sum_count\n",
    "        output.append(peryear)\n",
    "\n",
    "    return output"
   ]
  },
  {
   "cell_type": "code",
   "execution_count": 148,
   "id": "45dbaf75",
   "metadata": {},
   "outputs": [
    {
     "data": {
      "text/plain": [
       "[{'year': '2012',\n",
       "  'Class I': 27,\n",
       "  'Class IColor': 'hsl(128,70%,50%)',\n",
       "  'Class II': 51,\n",
       "  'Class IIColor': 'hsl(130,20%,10%)',\n",
       "  'Class III': 32,\n",
       "  'Class IIIColor': 'hsl(122,40%,80%)',\n",
       "  'VIP': 38,\n",
       "  'VIP Color': 'hsl(100,20%,20%)',\n",
       "  'VVIP': 39,\n",
       "  'VVIP Color': 'hsl(70,60%,90%)'},\n",
       " {'year': '2013',\n",
       "  'Class I': 35,\n",
       "  'Class IColor': 'hsl(128,70%,50%)',\n",
       "  'Class II': 35,\n",
       "  'Class IIColor': 'hsl(130,20%,10%)',\n",
       "  'Class III': 33,\n",
       "  'Class IIIColor': 'hsl(122,40%,80%)',\n",
       "  'VIP': 51,\n",
       "  'VIP Color': 'hsl(100,20%,20%)',\n",
       "  'VVIP': 36,\n",
       "  'VVIP Color': 'hsl(70,60%,90%)'},\n",
       " {'year': '2014',\n",
       "  'Class I': 30,\n",
       "  'Class IColor': 'hsl(128,70%,50%)',\n",
       "  'Class II': 27,\n",
       "  'Class IIColor': 'hsl(130,20%,10%)',\n",
       "  'Class III': 36,\n",
       "  'Class IIIColor': 'hsl(122,40%,80%)',\n",
       "  'VIP': 36,\n",
       "  'VIP Color': 'hsl(100,20%,20%)',\n",
       "  'VVIP': 33,\n",
       "  'VVIP Color': 'hsl(70,60%,90%)'},\n",
       " {'year': '2015',\n",
       "  'Class I': 36,\n",
       "  'Class IColor': 'hsl(128,70%,50%)',\n",
       "  'Class II': 50,\n",
       "  'Class IIColor': 'hsl(130,20%,10%)',\n",
       "  'Class III': 28,\n",
       "  'Class IIIColor': 'hsl(122,40%,80%)',\n",
       "  'VIP': 31,\n",
       "  'VIP Color': 'hsl(100,20%,20%)',\n",
       "  'VVIP': 27,\n",
       "  'VVIP Color': 'hsl(70,60%,90%)'},\n",
       " {'year': '2016',\n",
       "  'Class I': 24,\n",
       "  'Class IColor': 'hsl(128,70%,50%)',\n",
       "  'Class II': 40,\n",
       "  'Class IIColor': 'hsl(130,20%,10%)',\n",
       "  'Class III': 39,\n",
       "  'Class IIIColor': 'hsl(122,40%,80%)',\n",
       "  'VIP': 42,\n",
       "  'VIP Color': 'hsl(100,20%,20%)',\n",
       "  'VVIP': 17,\n",
       "  'VVIP Color': 'hsl(70,60%,90%)'},\n",
       " {'year': '2017',\n",
       "  'Class I': 41,\n",
       "  'Class IColor': 'hsl(128,70%,50%)',\n",
       "  'Class II': 24,\n",
       "  'Class IIColor': 'hsl(130,20%,10%)',\n",
       "  'Class III': 41,\n",
       "  'Class IIIColor': 'hsl(122,40%,80%)',\n",
       "  'VIP': 30,\n",
       "  'VIP Color': 'hsl(100,20%,20%)',\n",
       "  'VVIP': 42,\n",
       "  'VVIP Color': 'hsl(70,60%,90%)'},\n",
       " {'year': '2018',\n",
       "  'Class I': 34,\n",
       "  'Class IColor': 'hsl(128,70%,50%)',\n",
       "  'Class II': 31,\n",
       "  'Class IIColor': 'hsl(130,20%,10%)',\n",
       "  'Class III': 28,\n",
       "  'Class IIIColor': 'hsl(122,40%,80%)',\n",
       "  'VIP': 45,\n",
       "  'VIP Color': 'hsl(100,20%,20%)',\n",
       "  'VVIP': 31,\n",
       "  'VVIP Color': 'hsl(70,60%,90%)'},\n",
       " {'year': '2019',\n",
       "  'Class I': 28,\n",
       "  'Class IColor': 'hsl(128,70%,50%)',\n",
       "  'Class II': 30,\n",
       "  'Class IIColor': 'hsl(130,20%,10%)',\n",
       "  'Class III': 38,\n",
       "  'Class IIIColor': 'hsl(122,40%,80%)',\n",
       "  'VIP': 33,\n",
       "  'VIP Color': 'hsl(100,20%,20%)',\n",
       "  'VVIP': 29,\n",
       "  'VVIP Color': 'hsl(70,60%,90%)'},\n",
       " {'year': '2020',\n",
       "  'Class I': 37,\n",
       "  'Class IColor': 'hsl(128,70%,50%)',\n",
       "  'Class II': 24,\n",
       "  'Class IIColor': 'hsl(130,20%,10%)',\n",
       "  'Class III': 46,\n",
       "  'Class IIIColor': 'hsl(122,40%,80%)',\n",
       "  'VIP': 38,\n",
       "  'VIP Color': 'hsl(100,20%,20%)',\n",
       "  'VVIP': 39,\n",
       "  'VVIP Color': 'hsl(70,60%,90%)'},\n",
       " {'year': '2021',\n",
       "  'Class I': 24,\n",
       "  'Class IColor': 'hsl(128,70%,50%)',\n",
       "  'Class II': 38,\n",
       "  'Class IIColor': 'hsl(130,20%,10%)',\n",
       "  'Class III': 38,\n",
       "  'Class IIIColor': 'hsl(122,40%,80%)',\n",
       "  'VIP': 32,\n",
       "  'VIP Color': 'hsl(100,20%,20%)',\n",
       "  'VVIP': 38,\n",
       "  'VVIP Color': 'hsl(70,60%,90%)'},\n",
       " {'year': '2022',\n",
       "  'Class I': 40,\n",
       "  'Class IColor': 'hsl(128,70%,50%)',\n",
       "  'Class II': 50,\n",
       "  'Class IIColor': 'hsl(130,20%,10%)',\n",
       "  'Class III': 28,\n",
       "  'Class IIIColor': 'hsl(122,40%,80%)',\n",
       "  'VIP': 29,\n",
       "  'VIP Color': 'hsl(100,20%,20%)',\n",
       "  'VVIP': 35,\n",
       "  'VVIP Color': 'hsl(70,60%,90%)'}]"
      ]
     },
     "execution_count": 148,
     "metadata": {},
     "output_type": "execute_result"
    }
   ],
   "source": [
    "annual_admitted_patients_by_room_type()"
   ]
  },
  {
   "cell_type": "markdown",
   "id": "2218d950",
   "metadata": {},
   "source": [
    "### 2. Annual Total Admitted Patients (by country)"
   ]
  },
  {
   "cell_type": "code",
   "execution_count": 34,
   "id": "f501ea3b",
   "metadata": {},
   "outputs": [],
   "source": [
    "def annual_admitted_patients_bar_chart_data():\n",
    "    usa_patient_admitted = usa_instance.patient_admissions_by_country()\n",
    "    idn_patient_admitted = idn_instance.patient_admissions_by_country()\n",
    "\n",
    "    usa_annum_count = usa_instance.patient_admissions_per_annum(df = usa_patient_admitted)\n",
    "    idn_annum_count = idn_instance.patient_admissions_per_annum(df = idn_patient_admitted)\n",
    "    output = []\n",
    "    for n,year in enumerate(usa_annum_count['year']):\n",
    "        peryear = {\"year\" : str(year),\n",
    "                    \"USA\": usa_annum_count['total_admitted_patients'][n],\n",
    "                    \"USAColor\" : \"hsl(128,70%,50%)\",\n",
    "                    \"IDN\": idn_annum_count['total_admitted_patients'][n],\n",
    "                    \"IDNColor\": \"hsl(169,70%,50%)\"}\n",
    "        output.append(peryear)\n",
    "    return output"
   ]
  },
  {
   "cell_type": "code",
   "execution_count": 35,
   "id": "2045d1c6",
   "metadata": {
    "scrolled": true
   },
   "outputs": [
    {
     "data": {
      "text/plain": [
       "[{'year': '2012',\n",
       "  'USA': 93,\n",
       "  'USAColor': 'hsl(128,70%,50%)',\n",
       "  'IDN': 94,\n",
       "  'IDNColor': 'hsl(169,70%,50%)'},\n",
       " {'year': '2013',\n",
       "  'USA': 95,\n",
       "  'USAColor': 'hsl(128,70%,50%)',\n",
       "  'IDN': 95,\n",
       "  'IDNColor': 'hsl(169,70%,50%)'},\n",
       " {'year': '2014',\n",
       "  'USA': 80,\n",
       "  'USAColor': 'hsl(128,70%,50%)',\n",
       "  'IDN': 82,\n",
       "  'IDNColor': 'hsl(169,70%,50%)'},\n",
       " {'year': '2015',\n",
       "  'USA': 86,\n",
       "  'USAColor': 'hsl(128,70%,50%)',\n",
       "  'IDN': 86,\n",
       "  'IDNColor': 'hsl(169,70%,50%)'},\n",
       " {'year': '2016',\n",
       "  'USA': 83,\n",
       "  'USAColor': 'hsl(128,70%,50%)',\n",
       "  'IDN': 79,\n",
       "  'IDNColor': 'hsl(169,70%,50%)'},\n",
       " {'year': '2017',\n",
       "  'USA': 87,\n",
       "  'USAColor': 'hsl(128,70%,50%)',\n",
       "  'IDN': 91,\n",
       "  'IDNColor': 'hsl(169,70%,50%)'},\n",
       " {'year': '2018',\n",
       "  'USA': 87,\n",
       "  'USAColor': 'hsl(128,70%,50%)',\n",
       "  'IDN': 82,\n",
       "  'IDNColor': 'hsl(169,70%,50%)'},\n",
       " {'year': '2019',\n",
       "  'USA': 78,\n",
       "  'USAColor': 'hsl(128,70%,50%)',\n",
       "  'IDN': 80,\n",
       "  'IDNColor': 'hsl(169,70%,50%)'},\n",
       " {'year': '2020',\n",
       "  'USA': 92,\n",
       "  'USAColor': 'hsl(128,70%,50%)',\n",
       "  'IDN': 92,\n",
       "  'IDNColor': 'hsl(169,70%,50%)'},\n",
       " {'year': '2021',\n",
       "  'USA': 86,\n",
       "  'USAColor': 'hsl(128,70%,50%)',\n",
       "  'IDN': 84,\n",
       "  'IDNColor': 'hsl(169,70%,50%)'},\n",
       " {'year': '2022',\n",
       "  'USA': 88,\n",
       "  'USAColor': 'hsl(128,70%,50%)',\n",
       "  'IDN': 92,\n",
       "  'IDNColor': 'hsl(169,70%,50%)'}]"
      ]
     },
     "execution_count": 35,
     "metadata": {},
     "output_type": "execute_result"
    }
   ],
   "source": [
    "annual_admitted_patients_bar_chart_data()"
   ]
  },
  {
   "cell_type": "markdown",
   "id": "4539f0df",
   "metadata": {},
   "source": [
    "### 3. Annual Revenue Generated from Patient Admissions"
   ]
  },
  {
   "cell_type": "code",
   "execution_count": 36,
   "id": "95330ad6",
   "metadata": {},
   "outputs": [],
   "source": [
    "def monthly_revenues_line_chart_data():\n",
    "    usa_monthly_revenues = usa_instance.patient_admissions_by_country()\n",
    "    idn_monthly_revenues = idn_instance.patient_admissions_by_country()\n",
    "\n",
    "    usa_monthly_revenues = usa_instance.patient_admissions_revenues_per_month(df=usa_monthly_revenues)\n",
    "    idn_monthly_revenues = idn_instance.patient_admissions_revenues_per_month(df=idn_monthly_revenues)\n",
    "\n",
    "    data = [usa_monthly_revenues,idn_monthly_revenues]\n",
    "    return data"
   ]
  },
  {
   "cell_type": "code",
   "execution_count": 37,
   "id": "b6f054d7",
   "metadata": {},
   "outputs": [
    {
     "data": {
      "text/plain": [
       "[{'id': 'usa',\n",
       "  'data': [{'x': '2012', 'y': 597573.3399999999},\n",
       "   {'x': '2013', 'y': 646014.6},\n",
       "   {'x': '2014', 'y': 574809.17},\n",
       "   {'x': '2015', 'y': 525040.9600000001},\n",
       "   {'x': '2016', 'y': 487645.94999999995},\n",
       "   {'x': '2017', 'y': 528995.1099999999},\n",
       "   {'x': '2018', 'y': 625260.4400000003},\n",
       "   {'x': '2019', 'y': 472591.93},\n",
       "   {'x': '2020', 'y': 583380.51},\n",
       "   {'x': '2021', 'y': 632495.06},\n",
       "   {'x': '2022', 'y': 614016.9999999998}]},\n",
       " {'id': 'idn',\n",
       "  'data': [{'x': '2012', 'y': 485244.82000000007},\n",
       "   {'x': '2013', 'y': 685427.55},\n",
       "   {'x': '2014', 'y': 575219.28},\n",
       "   {'x': '2015', 'y': 459797.5799999999},\n",
       "   {'x': '2016', 'y': 412617.4499999998},\n",
       "   {'x': '2017', 'y': 592859.2999999999},\n",
       "   {'x': '2018', 'y': 548248.7800000001},\n",
       "   {'x': '2019', 'y': 444777.59},\n",
       "   {'x': '2020', 'y': 598127.7499999999},\n",
       "   {'x': '2021', 'y': 502389.71999999974},\n",
       "   {'x': '2022', 'y': 416671.38}]}]"
      ]
     },
     "execution_count": 37,
     "metadata": {},
     "output_type": "execute_result"
    }
   ],
   "source": [
    "annual_revenues_line_chart_data()"
   ]
  },
  {
   "cell_type": "markdown",
   "id": "eb8c85f8",
   "metadata": {},
   "source": [
    "### 4. Rooms count by care center"
   ]
  },
  {
   "cell_type": "code",
   "execution_count": 81,
   "id": "132ad659",
   "metadata": {},
   "outputs": [],
   "source": [
    "def rooms_count_by_care_center():\n",
    "    usa_rooms_by_cc = usa_instance.rooms_by_carecenter()\n",
    "    idn_rooms_by_cc = idn_instance.rooms_by_carecenter()\n",
    "    \n",
    "    gb_count_by_cc_usa = usa_rooms_by_cc.groupby('care_center_id',as_index = False).count()\n",
    "    gb_count_by_cc_idn = idn_rooms_by_cc.groupby('care_center_id',as_index = False).count()\n",
    "    \n",
    "    output = [{\n",
    "        'care_center_id' : 'cc-usa-1',\n",
    "        'care_center_name': 'Global Health MVCH',\n",
    "        'country' :'USA',\n",
    "        'num_of_rooms' : int(gb_count_by_cc_usa['room_id'][0])\n",
    "    },\n",
    "    {\n",
    "        'care_center_id' : 'cc-usa-2',\n",
    "        'care_center_name': 'MedStar MVCH',\n",
    "        'country' :'USA',\n",
    "        'num_of_rooms' : int(gb_count_by_cc_usa['room_id'][1])\n",
    "        \n",
    "    },\n",
    "    {\n",
    "        'care_center_id' : 'cc-idn-1',\n",
    "        'care_center_name': 'Medistra MVCH',\n",
    "        'country' :'IDN',\n",
    "        'num_of_rooms' : int(gb_count_by_cc_idn['room_id'][0])\n",
    "    },\n",
    "    {\n",
    "        'care_center_id' : 'cc-idn-1',\n",
    "        'care_center_name': 'Rumah Sakit Mitra Keluarga MVCH',\n",
    "        'country' :'IDN',\n",
    "        'num_of_rooms' : int(gb_count_by_cc_idn['room_id'][1])\n",
    "    }]\n",
    "    \n",
    "    return output"
   ]
  },
  {
   "cell_type": "code",
   "execution_count": 82,
   "id": "1c5648b2",
   "metadata": {},
   "outputs": [
    {
     "data": {
      "text/plain": [
       "[{'care_center_id': 'cc-usa-1',\n",
       "  'care_center_name': 'Global Health MVCH',\n",
       "  'country': 'USA',\n",
       "  'num_of_rooms': 103},\n",
       " {'care_center_id': 'cc-usa-2',\n",
       "  'care_center_name': 'MedStar MVCH',\n",
       "  'country': 'USA',\n",
       "  'num_of_rooms': 94},\n",
       " {'care_center_id': 'cc-idn-1',\n",
       "  'care_center_name': 'Medistra MVCH',\n",
       "  'country': 'IDN',\n",
       "  'num_of_rooms': 104},\n",
       " {'care_center_id': 'cc-idn-1',\n",
       "  'care_center_name': 'Rumah Sakit Mitra Keluarga MVCH',\n",
       "  'country': 'IDN',\n",
       "  'num_of_rooms': 96}]"
      ]
     },
     "execution_count": 82,
     "metadata": {},
     "output_type": "execute_result"
    }
   ],
   "source": [
    "rooms_count_by_care_center()"
   ]
  },
  {
   "cell_type": "markdown",
   "id": "32adbaa6",
   "metadata": {},
   "source": [
    "### 5. Patient admissions count by care center"
   ]
  },
  {
   "cell_type": "code",
   "execution_count": 92,
   "id": "ee50d909",
   "metadata": {},
   "outputs": [],
   "source": [
    "def patient_admissions_per_annum_by_cc(df):\n",
    "    \"\"\"\n",
    "    Function to generate annual report\n",
    "    Args:\n",
    "    - df: pandas.DataFrame -> queried data (prefix: patient_admissions_by_....).\n",
    "        E.g., patient_admissions_by_country, patient_admissions_by_state, etc.\n",
    "    \"\"\"\n",
    "    df['admitted_date'] = df['admitted_date'].astype('str')\n",
    "    df['admitted_date'] = pd.to_datetime(df['admitted_date'])\n",
    "    df['year'] = df['admitted_date'].dt.year\n",
    "    agg = df.groupby(['year','care_center_id'],as_index = False)[['admission_id']].count()\n",
    "    agg = agg.rename(columns={'admission_id':'total_admitted_patients'})\n",
    "    return agg"
   ]
  },
  {
   "cell_type": "code",
   "execution_count": 128,
   "id": "7c8f699e",
   "metadata": {},
   "outputs": [],
   "source": [
    "output = []\n",
    "for i,j in zip(data2.iterrows(),data4.iterrows()) :\n",
    "    per_year_usa = {'id' : i[0]+1,\n",
    "                'year' : str(i[1][0]),\n",
    "                'care_center_id':i[1][1],\n",
    "                'total_admitted_patients':i[1][2],\n",
    "                'country' :i[1][1][3:6]}\n",
    "    output.append(per_year_usa)\n",
    "    per_year_idn = {'id' : j[0]+1,\n",
    "            'year' : str(j[1][0]),\n",
    "            'care_center_id':j[1][1],\n",
    "            'total_admitted_patients':j[1][2],\n",
    "            'country' :j[1][1][3:6]}\n",
    "    output.append(per_year_idn)"
   ]
  },
  {
   "cell_type": "code",
   "execution_count": 129,
   "id": "c84ae799",
   "metadata": {},
   "outputs": [
    {
     "data": {
      "text/plain": [
       "[{'id': 1,\n",
       "  'year': '2012',\n",
       "  'care_center_id': 'cc-usa-1',\n",
       "  'total_admitted_patients': 54,\n",
       "  'country': 'usa'},\n",
       " {'id': 1,\n",
       "  'year': '2012',\n",
       "  'care_center_id': 'cc-idn-1',\n",
       "  'total_admitted_patients': 44,\n",
       "  'country': 'idn'},\n",
       " {'id': 2,\n",
       "  'year': '2012',\n",
       "  'care_center_id': 'cc-usa-2',\n",
       "  'total_admitted_patients': 39,\n",
       "  'country': 'usa'},\n",
       " {'id': 2,\n",
       "  'year': '2012',\n",
       "  'care_center_id': 'cc-idn-2',\n",
       "  'total_admitted_patients': 50,\n",
       "  'country': 'idn'},\n",
       " {'id': 3,\n",
       "  'year': '2013',\n",
       "  'care_center_id': 'cc-usa-1',\n",
       "  'total_admitted_patients': 45,\n",
       "  'country': 'usa'},\n",
       " {'id': 3,\n",
       "  'year': '2013',\n",
       "  'care_center_id': 'cc-idn-1',\n",
       "  'total_admitted_patients': 40,\n",
       "  'country': 'idn'},\n",
       " {'id': 4,\n",
       "  'year': '2013',\n",
       "  'care_center_id': 'cc-usa-2',\n",
       "  'total_admitted_patients': 50,\n",
       "  'country': 'usa'},\n",
       " {'id': 4,\n",
       "  'year': '2013',\n",
       "  'care_center_id': 'cc-idn-2',\n",
       "  'total_admitted_patients': 55,\n",
       "  'country': 'idn'},\n",
       " {'id': 5,\n",
       "  'year': '2014',\n",
       "  'care_center_id': 'cc-usa-1',\n",
       "  'total_admitted_patients': 40,\n",
       "  'country': 'usa'},\n",
       " {'id': 5,\n",
       "  'year': '2014',\n",
       "  'care_center_id': 'cc-idn-1',\n",
       "  'total_admitted_patients': 45,\n",
       "  'country': 'idn'},\n",
       " {'id': 6,\n",
       "  'year': '2014',\n",
       "  'care_center_id': 'cc-usa-2',\n",
       "  'total_admitted_patients': 40,\n",
       "  'country': 'usa'},\n",
       " {'id': 6,\n",
       "  'year': '2014',\n",
       "  'care_center_id': 'cc-idn-2',\n",
       "  'total_admitted_patients': 37,\n",
       "  'country': 'idn'},\n",
       " {'id': 7,\n",
       "  'year': '2015',\n",
       "  'care_center_id': 'cc-usa-1',\n",
       "  'total_admitted_patients': 46,\n",
       "  'country': 'usa'},\n",
       " {'id': 7,\n",
       "  'year': '2015',\n",
       "  'care_center_id': 'cc-idn-1',\n",
       "  'total_admitted_patients': 40,\n",
       "  'country': 'idn'},\n",
       " {'id': 8,\n",
       "  'year': '2015',\n",
       "  'care_center_id': 'cc-usa-2',\n",
       "  'total_admitted_patients': 40,\n",
       "  'country': 'usa'},\n",
       " {'id': 8,\n",
       "  'year': '2015',\n",
       "  'care_center_id': 'cc-idn-2',\n",
       "  'total_admitted_patients': 46,\n",
       "  'country': 'idn'},\n",
       " {'id': 9,\n",
       "  'year': '2016',\n",
       "  'care_center_id': 'cc-usa-1',\n",
       "  'total_admitted_patients': 51,\n",
       "  'country': 'usa'},\n",
       " {'id': 9,\n",
       "  'year': '2016',\n",
       "  'care_center_id': 'cc-idn-1',\n",
       "  'total_admitted_patients': 40,\n",
       "  'country': 'idn'},\n",
       " {'id': 10,\n",
       "  'year': '2016',\n",
       "  'care_center_id': 'cc-usa-2',\n",
       "  'total_admitted_patients': 32,\n",
       "  'country': 'usa'},\n",
       " {'id': 10,\n",
       "  'year': '2016',\n",
       "  'care_center_id': 'cc-idn-2',\n",
       "  'total_admitted_patients': 39,\n",
       "  'country': 'idn'},\n",
       " {'id': 11,\n",
       "  'year': '2017',\n",
       "  'care_center_id': 'cc-usa-1',\n",
       "  'total_admitted_patients': 42,\n",
       "  'country': 'usa'},\n",
       " {'id': 11,\n",
       "  'year': '2017',\n",
       "  'care_center_id': 'cc-idn-1',\n",
       "  'total_admitted_patients': 39,\n",
       "  'country': 'idn'},\n",
       " {'id': 12,\n",
       "  'year': '2017',\n",
       "  'care_center_id': 'cc-usa-2',\n",
       "  'total_admitted_patients': 45,\n",
       "  'country': 'usa'},\n",
       " {'id': 12,\n",
       "  'year': '2017',\n",
       "  'care_center_id': 'cc-idn-2',\n",
       "  'total_admitted_patients': 52,\n",
       "  'country': 'idn'},\n",
       " {'id': 13,\n",
       "  'year': '2018',\n",
       "  'care_center_id': 'cc-usa-1',\n",
       "  'total_admitted_patients': 40,\n",
       "  'country': 'usa'},\n",
       " {'id': 13,\n",
       "  'year': '2018',\n",
       "  'care_center_id': 'cc-idn-1',\n",
       "  'total_admitted_patients': 37,\n",
       "  'country': 'idn'},\n",
       " {'id': 14,\n",
       "  'year': '2018',\n",
       "  'care_center_id': 'cc-usa-2',\n",
       "  'total_admitted_patients': 47,\n",
       "  'country': 'usa'},\n",
       " {'id': 14,\n",
       "  'year': '2018',\n",
       "  'care_center_id': 'cc-idn-2',\n",
       "  'total_admitted_patients': 45,\n",
       "  'country': 'idn'},\n",
       " {'id': 15,\n",
       "  'year': '2019',\n",
       "  'care_center_id': 'cc-usa-1',\n",
       "  'total_admitted_patients': 37,\n",
       "  'country': 'usa'},\n",
       " {'id': 15,\n",
       "  'year': '2019',\n",
       "  'care_center_id': 'cc-idn-1',\n",
       "  'total_admitted_patients': 39,\n",
       "  'country': 'idn'},\n",
       " {'id': 16,\n",
       "  'year': '2019',\n",
       "  'care_center_id': 'cc-usa-2',\n",
       "  'total_admitted_patients': 41,\n",
       "  'country': 'usa'},\n",
       " {'id': 16,\n",
       "  'year': '2019',\n",
       "  'care_center_id': 'cc-idn-2',\n",
       "  'total_admitted_patients': 41,\n",
       "  'country': 'idn'},\n",
       " {'id': 17,\n",
       "  'year': '2020',\n",
       "  'care_center_id': 'cc-usa-1',\n",
       "  'total_admitted_patients': 43,\n",
       "  'country': 'usa'},\n",
       " {'id': 17,\n",
       "  'year': '2020',\n",
       "  'care_center_id': 'cc-idn-1',\n",
       "  'total_admitted_patients': 39,\n",
       "  'country': 'idn'},\n",
       " {'id': 18,\n",
       "  'year': '2020',\n",
       "  'care_center_id': 'cc-usa-2',\n",
       "  'total_admitted_patients': 49,\n",
       "  'country': 'usa'},\n",
       " {'id': 18,\n",
       "  'year': '2020',\n",
       "  'care_center_id': 'cc-idn-2',\n",
       "  'total_admitted_patients': 53,\n",
       "  'country': 'idn'},\n",
       " {'id': 19,\n",
       "  'year': '2021',\n",
       "  'care_center_id': 'cc-usa-1',\n",
       "  'total_admitted_patients': 36,\n",
       "  'country': 'usa'},\n",
       " {'id': 19,\n",
       "  'year': '2021',\n",
       "  'care_center_id': 'cc-idn-1',\n",
       "  'total_admitted_patients': 41,\n",
       "  'country': 'idn'},\n",
       " {'id': 20,\n",
       "  'year': '2021',\n",
       "  'care_center_id': 'cc-usa-2',\n",
       "  'total_admitted_patients': 50,\n",
       "  'country': 'usa'},\n",
       " {'id': 20,\n",
       "  'year': '2021',\n",
       "  'care_center_id': 'cc-idn-2',\n",
       "  'total_admitted_patients': 43,\n",
       "  'country': 'idn'},\n",
       " {'id': 21,\n",
       "  'year': '2022',\n",
       "  'care_center_id': 'cc-usa-1',\n",
       "  'total_admitted_patients': 41,\n",
       "  'country': 'usa'},\n",
       " {'id': 21,\n",
       "  'year': '2022',\n",
       "  'care_center_id': 'cc-idn-1',\n",
       "  'total_admitted_patients': 40,\n",
       "  'country': 'idn'},\n",
       " {'id': 22,\n",
       "  'year': '2022',\n",
       "  'care_center_id': 'cc-usa-2',\n",
       "  'total_admitted_patients': 49,\n",
       "  'country': 'usa'},\n",
       " {'id': 22,\n",
       "  'year': '2022',\n",
       "  'care_center_id': 'cc-idn-2',\n",
       "  'total_admitted_patients': 52,\n",
       "  'country': 'idn'}]"
      ]
     },
     "execution_count": 129,
     "metadata": {},
     "output_type": "execute_result"
    }
   ],
   "source": [
    "output"
   ]
  },
  {
   "cell_type": "code",
   "execution_count": 149,
   "id": "33cba49b",
   "metadata": {},
   "outputs": [],
   "source": [
    "def patient_admission_count_by_care_center():\n",
    "    data1 = usa_instance.patient_admissions_by_country()\n",
    "    data2 = usa_instance.patient_admissions_per_annum_by_cc(data1)\n",
    "    \n",
    "    data3 = idn_instance.patient_admissions_by_country()\n",
    "    data4 = usa_instance.patient_admissions_per_annum_by_cc(data3)\n",
    "    \n",
    "    output = []\n",
    "    for i,j in zip(data2.iterrows(),data4.iterrows()) :\n",
    "        per_year_usa = {'id' : i[0]+1,\n",
    "                    'year' : str(i[1][0]),\n",
    "                    'care_center_id':i[1][1],\n",
    "                    'total_admitted_patients':i[1][2],\n",
    "                    'country' :i[1][1][3:6]}\n",
    "        output.append(per_year_usa)\n",
    "        per_year_idn = {'id' : j[0]+1,\n",
    "                'year' : str(j[1][0]),\n",
    "                'care_center_id':j[1][1],\n",
    "                'total_admitted_patients':j[1][2],\n",
    "                'country' :j[1][1][3:6]}\n",
    "        output.append(per_year_idn)\n",
    "    return output"
   ]
  },
  {
   "cell_type": "code",
   "execution_count": 150,
   "id": "90512cf1",
   "metadata": {},
   "outputs": [
    {
     "ename": "AttributeError",
     "evalue": "'CountryReports' object has no attribute 'patient_admissions_per_annum_by_cc'",
     "output_type": "error",
     "traceback": [
      "\u001b[1;31m---------------------------------------------------------------------------\u001b[0m",
      "\u001b[1;31mAttributeError\u001b[0m                            Traceback (most recent call last)",
      "\u001b[1;32m<ipython-input-150-983f6b082ecb>\u001b[0m in \u001b[0;36m<module>\u001b[1;34m\u001b[0m\n\u001b[1;32m----> 1\u001b[1;33m \u001b[0mpatient_admission_count_by_care_center\u001b[0m\u001b[1;33m(\u001b[0m\u001b[1;33m)\u001b[0m\u001b[1;33m\u001b[0m\u001b[1;33m\u001b[0m\u001b[0m\n\u001b[0m",
      "\u001b[1;32m<ipython-input-149-8c8afc985b51>\u001b[0m in \u001b[0;36mpatient_admission_count_by_care_center\u001b[1;34m()\u001b[0m\n\u001b[0;32m      1\u001b[0m \u001b[1;32mdef\u001b[0m \u001b[0mpatient_admission_count_by_care_center\u001b[0m\u001b[1;33m(\u001b[0m\u001b[1;33m)\u001b[0m\u001b[1;33m:\u001b[0m\u001b[1;33m\u001b[0m\u001b[1;33m\u001b[0m\u001b[0m\n\u001b[0;32m      2\u001b[0m     \u001b[0mdata1\u001b[0m \u001b[1;33m=\u001b[0m \u001b[0musa_instance\u001b[0m\u001b[1;33m.\u001b[0m\u001b[0mpatient_admissions_by_country\u001b[0m\u001b[1;33m(\u001b[0m\u001b[1;33m)\u001b[0m\u001b[1;33m\u001b[0m\u001b[1;33m\u001b[0m\u001b[0m\n\u001b[1;32m----> 3\u001b[1;33m     \u001b[0mdata2\u001b[0m \u001b[1;33m=\u001b[0m \u001b[0musa_instance\u001b[0m\u001b[1;33m.\u001b[0m\u001b[0mpatient_admissions_per_annum_by_cc\u001b[0m\u001b[1;33m(\u001b[0m\u001b[0mdata1\u001b[0m\u001b[1;33m)\u001b[0m\u001b[1;33m\u001b[0m\u001b[1;33m\u001b[0m\u001b[0m\n\u001b[0m\u001b[0;32m      4\u001b[0m \u001b[1;33m\u001b[0m\u001b[0m\n\u001b[0;32m      5\u001b[0m     \u001b[0mdata3\u001b[0m \u001b[1;33m=\u001b[0m \u001b[0midn_instance\u001b[0m\u001b[1;33m.\u001b[0m\u001b[0mpatient_admissions_by_country\u001b[0m\u001b[1;33m(\u001b[0m\u001b[1;33m)\u001b[0m\u001b[1;33m\u001b[0m\u001b[1;33m\u001b[0m\u001b[0m\n",
      "\u001b[1;31mAttributeError\u001b[0m: 'CountryReports' object has no attribute 'patient_admissions_per_annum_by_cc'"
     ]
    }
   ],
   "source": [
    "patient_admission_count_by_care_center()"
   ]
  },
  {
   "cell_type": "markdown",
   "id": "68479b45",
   "metadata": {},
   "source": [
    "### 6. Patient admissions count by room type"
   ]
  },
  {
   "cell_type": "code",
   "execution_count": null,
   "id": "5b25a2b4",
   "metadata": {},
   "outputs": [],
   "source": [
    "idn_monthly_revenues"
   ]
  },
  {
   "cell_type": "code",
   "execution_count": null,
   "id": "9e43b35a",
   "metadata": {},
   "outputs": [],
   "source": []
  },
  {
   "cell_type": "markdown",
   "id": "242a574e",
   "metadata": {},
   "source": [
    "### 7. Care centers table"
   ]
  },
  {
   "cell_type": "code",
   "execution_count": null,
   "id": "3452fb95",
   "metadata": {},
   "outputs": [],
   "source": []
  },
  {
   "cell_type": "code",
   "execution_count": null,
   "id": "ac23a1e0",
   "metadata": {},
   "outputs": [],
   "source": []
  },
  {
   "cell_type": "markdown",
   "id": "7d834877",
   "metadata": {},
   "source": [
    "### 8. Patient admissions table"
   ]
  },
  {
   "cell_type": "code",
   "execution_count": null,
   "id": "83db5d0d",
   "metadata": {},
   "outputs": [],
   "source": []
  },
  {
   "cell_type": "code",
   "execution_count": null,
   "id": "d06dfbe7",
   "metadata": {},
   "outputs": [],
   "source": []
  },
  {
   "cell_type": "code",
   "execution_count": 15,
   "id": "8f3e10ae",
   "metadata": {},
   "outputs": [
    {
     "name": "stdout",
     "output_type": "stream",
     "text": [
      "Accessing DC: usa\n",
      "Accessing DC: idn\n"
     ]
    }
   ],
   "source": [
    "usa_monthly_revenues = usa_instance.patient_admissions_by_country()\n",
    "idn_monthly_revenues = idn_instance.patient_admissions_by_country()"
   ]
  },
  {
   "cell_type": "code",
   "execution_count": 11,
   "id": "860af3f5",
   "metadata": {},
   "outputs": [
    {
     "name": "stdout",
     "output_type": "stream",
     "text": [
      "Accessing DC: usa\n",
      "Accessing DC: idn\n"
     ]
    },
    {
     "ename": "TypeError",
     "evalue": "patient_admissions_revenues_per_month() missing 1 required positional argument: 'year'",
     "output_type": "error",
     "traceback": [
      "\u001b[1;31m---------------------------------------------------------------------------\u001b[0m",
      "\u001b[1;31mTypeError\u001b[0m                                 Traceback (most recent call last)",
      "\u001b[1;32m<ipython-input-11-c9f0ca9873d5>\u001b[0m in \u001b[0;36m<module>\u001b[1;34m\u001b[0m\n\u001b[1;32m----> 1\u001b[1;33m \u001b[0mmonthly_revenues_line_chart_data\u001b[0m\u001b[1;33m(\u001b[0m\u001b[1;33m)\u001b[0m\u001b[1;33m\u001b[0m\u001b[1;33m\u001b[0m\u001b[0m\n\u001b[0m",
      "\u001b[1;32m<ipython-input-10-15063f3498e8>\u001b[0m in \u001b[0;36mmonthly_revenues_line_chart_data\u001b[1;34m()\u001b[0m\n\u001b[0;32m      3\u001b[0m     \u001b[0midn_monthly_revenues\u001b[0m \u001b[1;33m=\u001b[0m \u001b[0midn_instance\u001b[0m\u001b[1;33m.\u001b[0m\u001b[0mpatient_admissions_by_country\u001b[0m\u001b[1;33m(\u001b[0m\u001b[1;33m)\u001b[0m\u001b[1;33m\u001b[0m\u001b[1;33m\u001b[0m\u001b[0m\n\u001b[0;32m      4\u001b[0m \u001b[1;33m\u001b[0m\u001b[0m\n\u001b[1;32m----> 5\u001b[1;33m     \u001b[0musa_monthly_revenues\u001b[0m \u001b[1;33m=\u001b[0m \u001b[0musa_instance\u001b[0m\u001b[1;33m.\u001b[0m\u001b[0mpatient_admissions_revenues_per_month\u001b[0m\u001b[1;33m(\u001b[0m\u001b[0mdf\u001b[0m\u001b[1;33m=\u001b[0m\u001b[0musa_monthly_revenues\u001b[0m\u001b[1;33m)\u001b[0m\u001b[1;33m\u001b[0m\u001b[1;33m\u001b[0m\u001b[0m\n\u001b[0m\u001b[0;32m      6\u001b[0m     \u001b[0midn_monthly_revenues\u001b[0m \u001b[1;33m=\u001b[0m \u001b[0midn_instance\u001b[0m\u001b[1;33m.\u001b[0m\u001b[0mpatient_admissions_revenues_per_month\u001b[0m\u001b[1;33m(\u001b[0m\u001b[0mdf\u001b[0m\u001b[1;33m=\u001b[0m\u001b[0midn_monthly_revenues\u001b[0m\u001b[1;33m)\u001b[0m\u001b[1;33m\u001b[0m\u001b[1;33m\u001b[0m\u001b[0m\n\u001b[0;32m      7\u001b[0m \u001b[1;33m\u001b[0m\u001b[0m\n",
      "\u001b[1;31mTypeError\u001b[0m: patient_admissions_revenues_per_month() missing 1 required positional argument: 'year'"
     ]
    }
   ],
   "source": [
    "monthly_revenues_line_chart_data()"
   ]
  },
  {
   "cell_type": "code",
   "execution_count": 12,
   "id": "defe6c5a",
   "metadata": {},
   "outputs": [
    {
     "name": "stdout",
     "output_type": "stream",
     "text": [
      "Accessing DC: usa\n",
      "Accessing DC: idn\n"
     ]
    },
    {
     "ename": "TypeError",
     "evalue": "patient_admissions_revenues_per_quarter() missing 1 required positional argument: 'year'",
     "output_type": "error",
     "traceback": [
      "\u001b[1;31m---------------------------------------------------------------------------\u001b[0m",
      "\u001b[1;31mTypeError\u001b[0m                                 Traceback (most recent call last)",
      "\u001b[1;32m<ipython-input-12-1c08d1ec3354>\u001b[0m in \u001b[0;36m<module>\u001b[1;34m\u001b[0m\n\u001b[1;32m----> 1\u001b[1;33m \u001b[0mquarterly_revenues_line_chart_data\u001b[0m\u001b[1;33m(\u001b[0m\u001b[1;33m)\u001b[0m\u001b[1;33m\u001b[0m\u001b[1;33m\u001b[0m\u001b[0m\n\u001b[0m",
      "\u001b[1;32m<ipython-input-8-281b29984419>\u001b[0m in \u001b[0;36mquarterly_revenues_line_chart_data\u001b[1;34m()\u001b[0m\n\u001b[0;32m     31\u001b[0m     \u001b[0midn_quarter_revenues\u001b[0m \u001b[1;33m=\u001b[0m \u001b[0midn_instance\u001b[0m\u001b[1;33m.\u001b[0m\u001b[0mpatient_admissions_by_country\u001b[0m\u001b[1;33m(\u001b[0m\u001b[1;33m)\u001b[0m\u001b[1;33m\u001b[0m\u001b[1;33m\u001b[0m\u001b[0m\n\u001b[0;32m     32\u001b[0m \u001b[1;33m\u001b[0m\u001b[0m\n\u001b[1;32m---> 33\u001b[1;33m     \u001b[0musa_quarter_revenues\u001b[0m \u001b[1;33m=\u001b[0m \u001b[0musa_instance\u001b[0m\u001b[1;33m.\u001b[0m\u001b[0mpatient_admissions_revenues_per_quarter\u001b[0m\u001b[1;33m(\u001b[0m\u001b[0mdf\u001b[0m\u001b[1;33m=\u001b[0m\u001b[0musa_quarter_revenues\u001b[0m\u001b[1;33m)\u001b[0m\u001b[1;33m\u001b[0m\u001b[1;33m\u001b[0m\u001b[0m\n\u001b[0m\u001b[0;32m     34\u001b[0m     \u001b[0midn_quarter_revenues\u001b[0m \u001b[1;33m=\u001b[0m \u001b[0midn_instance\u001b[0m\u001b[1;33m.\u001b[0m\u001b[0mpatient_admissions_revenues_per_quarter\u001b[0m\u001b[1;33m(\u001b[0m\u001b[0mdf\u001b[0m\u001b[1;33m=\u001b[0m\u001b[0midn_quarter_revenues\u001b[0m\u001b[1;33m)\u001b[0m\u001b[1;33m\u001b[0m\u001b[1;33m\u001b[0m\u001b[0m\n\u001b[0;32m     35\u001b[0m \u001b[1;33m\u001b[0m\u001b[0m\n",
      "\u001b[1;31mTypeError\u001b[0m: patient_admissions_revenues_per_quarter() missing 1 required positional argument: 'year'"
     ]
    }
   ],
   "source": [
    "quarterly_revenues_line_chart_data()"
   ]
  },
  {
   "cell_type": "code",
   "execution_count": null,
   "id": "8a4f2eb0",
   "metadata": {},
   "outputs": [],
   "source": []
  }
 ],
 "metadata": {
  "kernelspec": {
   "display_name": "Python 3",
   "language": "python",
   "name": "python3"
  },
  "language_info": {
   "codemirror_mode": {
    "name": "ipython",
    "version": 3
   },
   "file_extension": ".py",
   "mimetype": "text/x-python",
   "name": "python",
   "nbconvert_exporter": "python",
   "pygments_lexer": "ipython3",
   "version": "3.8.8"
  }
 },
 "nbformat": 4,
 "nbformat_minor": 5
}
